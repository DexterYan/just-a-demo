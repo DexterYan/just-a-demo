{
 "cells": [
  {
   "cell_type": "code",
   "execution_count": 1,
   "id": "4e795a4a-e4af-4241-bfad-f314c3c114c9",
   "metadata": {
    "tags": []
   },
   "outputs": [
    {
     "name": "stdout",
     "output_type": "stream",
     "text": [
      "\u001b[36mRetrieving Poetry metadata\u001b[0m\n",
      "\n",
      "The latest version (\u001b[1m1.3.2\u001b[0m) is already installed.\n"
     ]
    }
   ],
   "source": [
    "!curl -sSL https://install.python-poetry.org | python3 -"
   ]
  },
  {
   "cell_type": "code",
   "execution_count": 2,
   "id": "5d037574-fa37-4565-bfb1-5ea9849ab36b",
   "metadata": {
    "tags": []
   },
   "outputs": [
    {
     "name": "stdout",
     "output_type": "stream",
     "text": [
      "\u001b[34mInstalling dependencies from lock file\u001b[39m\n",
      "\n",
      "No dependencies to install or update\n"
     ]
    }
   ],
   "source": [
    "!poetry install"
   ]
  },
  {
   "cell_type": "code",
   "execution_count": 2,
   "id": "58c0d4a3-4655-4bab-bc9d-b47ddaad4c31",
   "metadata": {
    "tags": []
   },
   "outputs": [
    {
     "name": "stdout",
     "output_type": "stream",
     "text": [
      "Collecting en-core-web-sm==3.5.0\n",
      "  Downloading https://github.com/explosion/spacy-models/releases/download/en_core_web_sm-3.5.0/en_core_web_sm-3.5.0-py3-none-any.whl (12.8 MB)\n",
      "\u001b[2K     \u001b[38;2;114;156;31m━━━━━━━━━━━━━━━━━━━━━━━━━━━━━━━━━━━━━━━━\u001b[0m \u001b[32m12.8/12.8 MB\u001b[0m \u001b[31m7.2 MB/s\u001b[0m eta \u001b[36m0:00:00\u001b[0mm eta \u001b[36m0:00:01\u001b[0m0:01\u001b[0m02\u001b[0m0m\n",
      "\u001b[?25hRequirement already satisfied: spacy<3.6.0,>=3.5.0 in /Users/dexteryan/Library/Caches/pypoetry/virtualenvs/redactgpt-fR2-QHRW-py3.11/lib/python3.11/site-packages (from en-core-web-sm==3.5.0) (3.5.0)\n",
      "Requirement already satisfied: spacy-legacy<3.1.0,>=3.0.11 in /Users/dexteryan/Library/Caches/pypoetry/virtualenvs/redactgpt-fR2-QHRW-py3.11/lib/python3.11/site-packages (from spacy<3.6.0,>=3.5.0->en-core-web-sm==3.5.0) (3.0.12)\n",
      "Requirement already satisfied: spacy-loggers<2.0.0,>=1.0.0 in /Users/dexteryan/Library/Caches/pypoetry/virtualenvs/redactgpt-fR2-QHRW-py3.11/lib/python3.11/site-packages (from spacy<3.6.0,>=3.5.0->en-core-web-sm==3.5.0) (1.0.4)\n",
      "Requirement already satisfied: murmurhash<1.1.0,>=0.28.0 in /Users/dexteryan/Library/Caches/pypoetry/virtualenvs/redactgpt-fR2-QHRW-py3.11/lib/python3.11/site-packages (from spacy<3.6.0,>=3.5.0->en-core-web-sm==3.5.0) (1.0.9)\n",
      "Requirement already satisfied: cymem<2.1.0,>=2.0.2 in /Users/dexteryan/Library/Caches/pypoetry/virtualenvs/redactgpt-fR2-QHRW-py3.11/lib/python3.11/site-packages (from spacy<3.6.0,>=3.5.0->en-core-web-sm==3.5.0) (2.0.7)\n",
      "Requirement already satisfied: preshed<3.1.0,>=3.0.2 in /Users/dexteryan/Library/Caches/pypoetry/virtualenvs/redactgpt-fR2-QHRW-py3.11/lib/python3.11/site-packages (from spacy<3.6.0,>=3.5.0->en-core-web-sm==3.5.0) (3.0.8)\n",
      "Requirement already satisfied: thinc<8.2.0,>=8.1.0 in /Users/dexteryan/Library/Caches/pypoetry/virtualenvs/redactgpt-fR2-QHRW-py3.11/lib/python3.11/site-packages (from spacy<3.6.0,>=3.5.0->en-core-web-sm==3.5.0) (8.1.7)\n",
      "Requirement already satisfied: wasabi<1.2.0,>=0.9.1 in /Users/dexteryan/Library/Caches/pypoetry/virtualenvs/redactgpt-fR2-QHRW-py3.11/lib/python3.11/site-packages (from spacy<3.6.0,>=3.5.0->en-core-web-sm==3.5.0) (1.1.1)\n",
      "Requirement already satisfied: srsly<3.0.0,>=2.4.3 in /Users/dexteryan/Library/Caches/pypoetry/virtualenvs/redactgpt-fR2-QHRW-py3.11/lib/python3.11/site-packages (from spacy<3.6.0,>=3.5.0->en-core-web-sm==3.5.0) (2.4.5)\n",
      "Requirement already satisfied: catalogue<2.1.0,>=2.0.6 in /Users/dexteryan/Library/Caches/pypoetry/virtualenvs/redactgpt-fR2-QHRW-py3.11/lib/python3.11/site-packages (from spacy<3.6.0,>=3.5.0->en-core-web-sm==3.5.0) (2.0.8)\n",
      "Requirement already satisfied: typer<0.8.0,>=0.3.0 in /Users/dexteryan/Library/Caches/pypoetry/virtualenvs/redactgpt-fR2-QHRW-py3.11/lib/python3.11/site-packages (from spacy<3.6.0,>=3.5.0->en-core-web-sm==3.5.0) (0.7.0)\n",
      "Requirement already satisfied: pathy>=0.10.0 in /Users/dexteryan/Library/Caches/pypoetry/virtualenvs/redactgpt-fR2-QHRW-py3.11/lib/python3.11/site-packages (from spacy<3.6.0,>=3.5.0->en-core-web-sm==3.5.0) (0.10.1)\n",
      "Requirement already satisfied: smart-open<7.0.0,>=5.2.1 in /Users/dexteryan/Library/Caches/pypoetry/virtualenvs/redactgpt-fR2-QHRW-py3.11/lib/python3.11/site-packages (from spacy<3.6.0,>=3.5.0->en-core-web-sm==3.5.0) (6.3.0)\n",
      "Requirement already satisfied: tqdm<5.0.0,>=4.38.0 in /Users/dexteryan/Library/Caches/pypoetry/virtualenvs/redactgpt-fR2-QHRW-py3.11/lib/python3.11/site-packages (from spacy<3.6.0,>=3.5.0->en-core-web-sm==3.5.0) (4.64.1)\n",
      "Requirement already satisfied: numpy>=1.15.0 in /Users/dexteryan/Library/Caches/pypoetry/virtualenvs/redactgpt-fR2-QHRW-py3.11/lib/python3.11/site-packages (from spacy<3.6.0,>=3.5.0->en-core-web-sm==3.5.0) (1.24.1)\n",
      "Requirement already satisfied: requests<3.0.0,>=2.13.0 in /Users/dexteryan/Library/Caches/pypoetry/virtualenvs/redactgpt-fR2-QHRW-py3.11/lib/python3.11/site-packages (from spacy<3.6.0,>=3.5.0->en-core-web-sm==3.5.0) (2.28.2)\n",
      "Requirement already satisfied: pydantic!=1.8,!=1.8.1,<1.11.0,>=1.7.4 in /Users/dexteryan/Library/Caches/pypoetry/virtualenvs/redactgpt-fR2-QHRW-py3.11/lib/python3.11/site-packages (from spacy<3.6.0,>=3.5.0->en-core-web-sm==3.5.0) (1.10.4)\n",
      "Requirement already satisfied: jinja2 in /Users/dexteryan/Library/Caches/pypoetry/virtualenvs/redactgpt-fR2-QHRW-py3.11/lib/python3.11/site-packages (from spacy<3.6.0,>=3.5.0->en-core-web-sm==3.5.0) (3.1.2)\n",
      "Requirement already satisfied: setuptools in /Users/dexteryan/Library/Caches/pypoetry/virtualenvs/redactgpt-fR2-QHRW-py3.11/lib/python3.11/site-packages (from spacy<3.6.0,>=3.5.0->en-core-web-sm==3.5.0) (67.0.0)\n",
      "Requirement already satisfied: packaging>=20.0 in /Users/dexteryan/Library/Caches/pypoetry/virtualenvs/redactgpt-fR2-QHRW-py3.11/lib/python3.11/site-packages (from spacy<3.6.0,>=3.5.0->en-core-web-sm==3.5.0) (23.0)\n",
      "Requirement already satisfied: langcodes<4.0.0,>=3.2.0 in /Users/dexteryan/Library/Caches/pypoetry/virtualenvs/redactgpt-fR2-QHRW-py3.11/lib/python3.11/site-packages (from spacy<3.6.0,>=3.5.0->en-core-web-sm==3.5.0) (3.3.0)\n",
      "Requirement already satisfied: typing-extensions>=4.2.0 in /Users/dexteryan/Library/Caches/pypoetry/virtualenvs/redactgpt-fR2-QHRW-py3.11/lib/python3.11/site-packages (from pydantic!=1.8,!=1.8.1,<1.11.0,>=1.7.4->spacy<3.6.0,>=3.5.0->en-core-web-sm==3.5.0) (4.4.0)\n",
      "Requirement already satisfied: charset-normalizer<4,>=2 in /Users/dexteryan/Library/Caches/pypoetry/virtualenvs/redactgpt-fR2-QHRW-py3.11/lib/python3.11/site-packages (from requests<3.0.0,>=2.13.0->spacy<3.6.0,>=3.5.0->en-core-web-sm==3.5.0) (3.0.1)\n",
      "Requirement already satisfied: idna<4,>=2.5 in /Users/dexteryan/Library/Caches/pypoetry/virtualenvs/redactgpt-fR2-QHRW-py3.11/lib/python3.11/site-packages (from requests<3.0.0,>=2.13.0->spacy<3.6.0,>=3.5.0->en-core-web-sm==3.5.0) (3.4)\n",
      "Requirement already satisfied: urllib3<1.27,>=1.21.1 in /Users/dexteryan/Library/Caches/pypoetry/virtualenvs/redactgpt-fR2-QHRW-py3.11/lib/python3.11/site-packages (from requests<3.0.0,>=2.13.0->spacy<3.6.0,>=3.5.0->en-core-web-sm==3.5.0) (1.26.14)\n",
      "Requirement already satisfied: certifi>=2017.4.17 in /Users/dexteryan/Library/Caches/pypoetry/virtualenvs/redactgpt-fR2-QHRW-py3.11/lib/python3.11/site-packages (from requests<3.0.0,>=2.13.0->spacy<3.6.0,>=3.5.0->en-core-web-sm==3.5.0) (2022.12.7)\n",
      "Requirement already satisfied: blis<0.8.0,>=0.7.8 in /Users/dexteryan/Library/Caches/pypoetry/virtualenvs/redactgpt-fR2-QHRW-py3.11/lib/python3.11/site-packages (from thinc<8.2.0,>=8.1.0->spacy<3.6.0,>=3.5.0->en-core-web-sm==3.5.0) (0.7.9)\n",
      "Requirement already satisfied: confection<1.0.0,>=0.0.1 in /Users/dexteryan/Library/Caches/pypoetry/virtualenvs/redactgpt-fR2-QHRW-py3.11/lib/python3.11/site-packages (from thinc<8.2.0,>=8.1.0->spacy<3.6.0,>=3.5.0->en-core-web-sm==3.5.0) (0.0.4)\n",
      "Requirement already satisfied: click<9.0.0,>=7.1.1 in /Users/dexteryan/Library/Caches/pypoetry/virtualenvs/redactgpt-fR2-QHRW-py3.11/lib/python3.11/site-packages (from typer<0.8.0,>=0.3.0->spacy<3.6.0,>=3.5.0->en-core-web-sm==3.5.0) (8.1.3)\n",
      "Requirement already satisfied: MarkupSafe>=2.0 in /Users/dexteryan/Library/Caches/pypoetry/virtualenvs/redactgpt-fR2-QHRW-py3.11/lib/python3.11/site-packages (from jinja2->spacy<3.6.0,>=3.5.0->en-core-web-sm==3.5.0) (2.1.2)\n",
      "\n",
      "\u001b[1m[\u001b[0m\u001b[34;49mnotice\u001b[0m\u001b[1;39;49m]\u001b[0m\u001b[39;49m A new release of pip available: \u001b[0m\u001b[31;49m22.3.1\u001b[0m\u001b[39;49m -> \u001b[0m\u001b[32;49m23.0\u001b[0m\n",
      "\u001b[1m[\u001b[0m\u001b[34;49mnotice\u001b[0m\u001b[1;39;49m]\u001b[0m\u001b[39;49m To update, run: \u001b[0m\u001b[32;49mpip install --upgrade pip\u001b[0m\n",
      "\u001b[38;5;2m✔ Download and installation successful\u001b[0m\n",
      "You can now load the package via spacy.load('en_core_web_sm')\n"
     ]
    }
   ],
   "source": [
    "!poetry run spacy download en_core_web_sm"
   ]
  },
  {
   "cell_type": "code",
   "execution_count": 2,
   "id": "0728e4ac-4e5d-4c4f-b552-b389f1e65b36",
   "metadata": {
    "tags": []
   },
   "outputs": [
    {
     "name": "stdout",
     "output_type": "stream",
     "text": [
      "['write a support bundle yaml to get log from pod has api=app, app.kubernetes.io/name=service1， kurl.io/app=hi labels in app namespace']\n",
      "<IPython.core.display.Markdown object>\n",
      "\n",
      "\n",
      "kubectl logs -l api=app,app.kubernetes.io/name=service1,kurl.io/app=hi -n app\n",
      "\n",
      "\n",
      "========= openai generated yaml: =========\n",
      "\n",
      "apiVersion: v1\n",
      "kind: Service\n",
      "metadata:\n",
      "  name: service1\n",
      "  namespace: app\n",
      "  labels:\n",
      "    api: app\n",
      "    app.kubernetes.io/name: service1\n",
      "    kurl.io/app: hi\n",
      "spec:\n",
      "  ports: \n",
      "    - port: 80   # Port to expose on the pod's IP address. \n",
      "      targetPort: 80 # Port to forward to on the pod targeted by the service. \n",
      "      protocol: TCP # Protocol for port. Must be UDP or TCP. Defaults to \"TCP\".  \n",
      "  selector: # Selector is a label query over pods that should match the Replicas count.  \n",
      "    api: app   # Label key to select on.  \n",
      "    app.kubernetes.io/name : service1 # Label value that must match.  \n",
      "    kurl.io/app : hi # Label value that must match.\n",
      "\n",
      "\n",
      "\n",
      "\n",
      "========= support bundle yaml: =========\n",
      "\n",
      "apiVersion: troubleshoot.sh/v1beta2\n",
      "kind: SupportBundle\n",
      "metadata:\n",
      "  name: get-logs-from-pod-with-labels\n",
      "spec:\n",
      "  collectors:\n",
      "  - logs:\n",
      "      namespace: app\n",
      "      selector:\n",
      "      - api=app\n",
      "      - app.kubernetes.io/name=service1\n",
      "      - kurl.io/app=hi\n",
      "\n"
     ]
    }
   ],
   "source": [
    "!poetry run python main.py -i 'write a support bundle yaml to get log from pod has api=app, app.kubernetes.io/name=service1， kurl.io/app=hi labels in app namespace'"
   ]
  },
  {
   "cell_type": "code",
   "execution_count": 6,
   "id": "afe5dbb6-8b8c-46d9-a4c9-495349e8350c",
   "metadata": {},
   "outputs": [
    {
     "name": "stdout",
     "output_type": "stream",
     "text": [
      "['\"write a preflight yaml to check status from pod hello in app namespace', 'fail == [CrashLoopBackOff, Terminating], fail != [Healthy], success == [Ready], warning == [Good]\"']\n",
      " to check status from pod hello in app namespace\n",
      "\n",
      "\n",
      "kubectl get pod hello -n app --show-labels --output=wide\n",
      "\n",
      "\n",
      "========= openai generated yaml: =========\n",
      "\n",
      "apiVersion: v1\n",
      "kind: Pod\n",
      "metadata:\n",
      "  name: hello-pod\n",
      "  namespace: app\n",
      "spec:\n",
      "  containers:\n",
      "    - name: hello-container\n",
      "      image: hello-image\n",
      "      command: [\"/bin/sh\", \"-c\", \"while true; do echo 'Checking status...'; sleep 5; done\"]\n",
      "\n",
      "\n",
      "{'fail': ['CrashLoopBackOff', 'Terminating'], 'fail_not_equal': ['Healthy'], 'success': ['Ready'], 'warning': ['Good']}\n",
      "\n",
      "\n",
      "========= support bundle yaml: =========\n",
      "\n",
      "apiVersion: troubleshoot.sh/v1beta2\n",
      "kind: Preflight\n",
      "metadata:\n",
      "  name: pods-are-healthy\n",
      "spec:\n",
      "  outcomes:\n",
      "  - fail:\n",
      "      message: Pod {{ .Namespace }}/{{ .Name }} is in a CrashLoopBackOff state.\n",
      "      when: == CrashLoopBackOff\n",
      "  - fail:\n",
      "      message: Pod {{ .Namespace }}/{{ .Name }} is in a Terminating state.\n",
      "      when: == Terminating\n",
      "  - fail_equal:\n",
      "      message: Pod {{ .Namespace }}/{{ .Name }} is in a not Healthy state.\n",
      "      when: '!= Healthy'\n",
      "  - success:\n",
      "      message: Pod {{ .Namespace }}/{{ .Name }} is in a Ready state.\n",
      "      when: == Ready\n",
      "  - warning:\n",
      "      message: Pod {{ .Namespace }}/{{ .Name }} is in a Good state.\n",
      "      when: == Good\n",
      "\n"
     ]
    }
   ],
   "source": [
    "!poetry run python main.py -i '\"write a preflight yaml to check status from pod hello in app namespace; fail == [CrashLoopBackOff, Terminating], fail != [Healthy], success == [Ready], warning == [Good]\"'"
   ]
  },
  {
   "cell_type": "code",
   "execution_count": 1,
   "id": "a6c28305-016e-4504-a0c4-5056f5b20f55",
   "metadata": {
    "tags": []
   },
   "outputs": [
    {
     "name": "stdout",
     "output_type": "stream",
     "text": [
      "['write a support-bundle yaml to collect host memory']\n",
      " usage\n",
      "\n",
      "kubectl top node --describe-resources=memory\n",
      "\n",
      "\n",
      "========= support bundle yaml: =========\n",
      "\n",
      "apiVersion: troubleshoot.sh/v1beta2\n",
      "kind: SupportBundle\n",
      "metadata:\n",
      "  name: get-metrics-from-memory\n",
      "spec:\n",
      "  hostCollectors:\n",
      "  - memory: {}\n",
      "\n"
     ]
    }
   ],
   "source": [
    "!poetry run python main.py -i 'write a support-bundle yaml to collect host memory'"
   ]
  },
  {
   "cell_type": "code",
   "execution_count": 3,
   "id": "160c055d-c1c6-41f1-ae25-e7db926e2011",
   "metadata": {
    "tags": []
   },
   "outputs": [
    {
     "name": "stdout",
     "output_type": "stream",
     "text": [
      "['write a support bundle yaml to collect host memory', 'fail: [\"< 4g\"], warn: [\"< 8g\"],  pass: [\">= 8g\"]']\n",
      "{'fail': ['< 4g'], 'warn': ['< 8g'], 'pass': ['>= 8g']}\n",
      "\n",
      "\n",
      "========= support bundle yaml: =========\n",
      "\n",
      "apiVersion: troubleshoot.sh/v1beta2\n",
      "kind: SupportBundle\n",
      "metadata:\n",
      "  name: get-metrics-from-memory\n",
      "spec:\n",
      "  hostAnalyzers:\n",
      "  - memory:\n",
      "      checkName: Amount of memory\n",
      "      outcomes:\n",
      "      - fail:\n",
      "          message: If you have less than 4GB of memory, it is recommended that you\n",
      "            upgrade to 8GB.\n",
      "          when: < 4g\n",
      "      - warn:\n",
      "          message: At least 4GB of memory is required, though 8GB is recommended.\n",
      "            Currently, less than 8GB is available.\n",
      "          when: < 8g\n",
      "      - pass:\n",
      "          message: At least 4GB of memory is required, with 8GB being the current\n",
      "            minimum and 8GB being recommended.\n",
      "          when: '>= 8g'\n",
      "  hostCollectors:\n",
      "  - memory: {}\n",
      "\n"
     ]
    }
   ],
   "source": [
    "!poetry run python main.py -i 'write a support bundle yaml to collect host memory; fail: [\"< 4g\"], warn: [\"< 8g\"],  pass: [\">= 8g\"]'"
   ]
  },
  {
   "cell_type": "code",
   "execution_count": 3,
   "id": "c1527411-2469-477f-abea-e15ff016f0d2",
   "metadata": {},
   "outputs": [
    {
     "name": "stdout",
     "output_type": "stream",
     "text": [
      "['write a support bundle yaml to collect host cpu', 'fail: [\"count < 2\"], warn: [\"count < 4\"],  pass: [\"count >= 4\"]']\n",
      " usage\n",
      "\n",
      "kubectl top nodes --describe-containers=true --containers=true --sort-by=cpu\n",
      "{'fail': ['count < 2'], 'warn': ['count < 4'], 'pass': ['count >= 4']}\n",
      "\n",
      "\n",
      "========= support bundle yaml: =========\n",
      "\n",
      "apiVersion: troubleshoot.sh/v1beta2\n",
      "kind: SupportBundle\n",
      "metadata:\n",
      "  name: get-metrics-from-cpu\n",
      "spec:\n",
      "  hostAnalyzers:\n",
      "  - cpu:\n",
      "      checkName: Amount of cpu\n",
      "      outcomes:\n",
      "      - fail:\n",
      "          message: If the current count of CPU cores is less than 2, at least 2 CPU\n",
      "            cores are required; however, it is recommended to have 4 CPU cores.\n",
      "          when: count < 2\n",
      "      - warn:\n",
      "          message: It is recommended to have at least 4 CPU cores, although 2 CPU\n",
      "            cores are the minimum requirement. The current count is less than 4.\n",
      "          when: count < 4\n",
      "      - pass:\n",
      "          message: It is recommended to have at least 4 CPU cores, with the current\n",
      "            count being greater than or equal to 4.\n",
      "          when: count >= 4\n",
      "  hostCollectors:\n",
      "  - cpu: {}\n",
      "\n"
     ]
    }
   ],
   "source": [
    "!poetry run python main.py -i 'write a support bundle yaml to collect host cpu; fail: [\"count < 2\"], warn: [\"count < 4\"],  pass: [\"count >= 4\"]'"
   ]
  },
  {
   "cell_type": "code",
   "execution_count": null,
   "id": "b079eed7-a4d1-4686-aab6-cd0aa6ebe9e0",
   "metadata": {},
   "outputs": [],
   "source": []
  }
 ],
 "metadata": {
  "kernelspec": {
   "display_name": "Python 3 (ipykernel)",
   "language": "python",
   "name": "python3"
  },
  "language_info": {
   "codemirror_mode": {
    "name": "ipython",
    "version": 3
   },
   "file_extension": ".py",
   "mimetype": "text/x-python",
   "name": "python",
   "nbconvert_exporter": "python",
   "pygments_lexer": "ipython3",
   "version": "3.11.1"
  },
  "vscode": {
   "interpreter": {
    "hash": "5c7b89af1651d0b8571dde13640ecdccf7d5a6204171d6ab33e7c296e100e08a"
   }
  }
 },
 "nbformat": 4,
 "nbformat_minor": 5
}
